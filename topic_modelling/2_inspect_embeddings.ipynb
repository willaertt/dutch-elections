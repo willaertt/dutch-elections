{
 "cells": [
  {
   "cell_type": "code",
   "execution_count": 1,
   "id": "244869f4",
   "metadata": {},
   "outputs": [
    {
     "name": "stdout",
     "output_type": "stream",
     "text": [
      "4614\n"
     ]
    }
   ],
   "source": [
    "'''\n",
    "Inspect embeddings\n",
    "'''\n",
    "\n",
    "#import libraries\n",
    "import numpy as np\n",
    "\n",
    "\n",
    "embeddings_file = '/home/tom/Documents/code/GitHub/dutch-elections/embeddings/paraphrase-multilingual-mpnet-base-v2.npy'\n",
    "embeddings = np.load(embeddings_file)\n",
    "print(len(embeddings))"
   ]
  },
  {
   "cell_type": "code",
   "execution_count": null,
   "id": "90e4634e",
   "metadata": {},
   "outputs": [],
   "source": []
  }
 ],
 "metadata": {
  "kernelspec": {
   "display_name": "bert_embeddings",
   "language": "python",
   "name": "python3"
  },
  "language_info": {
   "codemirror_mode": {
    "name": "ipython",
    "version": 3
   },
   "file_extension": ".py",
   "mimetype": "text/x-python",
   "name": "python",
   "nbconvert_exporter": "python",
   "pygments_lexer": "ipython3",
   "version": "3.10.14"
  }
 },
 "nbformat": 4,
 "nbformat_minor": 5
}
