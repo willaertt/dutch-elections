{
 "cells": [
  {
   "cell_type": "code",
   "execution_count": 5,
   "id": "5a7f6db1",
   "metadata": {},
   "outputs": [
    {
     "data": {
      "text/plain": [
       "'\\nInspect topic models and reduce outliers\\n'"
      ]
     },
     "execution_count": 5,
     "metadata": {},
     "output_type": "execute_result"
    }
   ],
   "source": [
    "'''\n",
    "Inspect topic models and reduce outliers\n",
    "'''"
   ]
  },
  {
   "cell_type": "code",
   "execution_count": 6,
   "id": "baac61eb",
   "metadata": {},
   "outputs": [
    {
     "name": "stdout",
     "output_type": "stream",
     "text": [
      "load data\n",
      "number of docs 4614\n"
     ]
    }
   ],
   "source": [
    "#import libraries\n",
    "import numpy as np\n",
    "import os\n",
    "from bertopic import BERTopic\n",
    "import pandas as pd\n",
    "from tqdm import tqdm\n",
    "\n",
    "#specify path to data files\n",
    "csv_sample_file = \"/home/tom/Documents/code/GitHub/dutch-elections/DATA/Parties_and_LeadersV2.csv\"\n",
    "\n",
    "#load data\n",
    "print('load data')\n",
    "telegram_df = pd.read_csv(csv_sample_file)\n",
    "\n",
    "docs = list(telegram_df['text']) #get list of messages\n",
    "sample_size = print('number of docs', len(docs))\n",
    "\n",
    "#load embeddings\n",
    "embeddings = np.load(\"/home/tom/Documents/code/GitHub/dutch-elections/embeddings/paraphrase-multilingual-mpnet-base-v2.npy\")"
   ]
  },
  {
   "cell_type": "code",
   "execution_count": 7,
   "id": "e7c2090c",
   "metadata": {},
   "outputs": [
    {
     "name": "stderr",
     "output_type": "stream",
     "text": [
      "  0%|          | 0/3 [00:00<?, ?it/s]"
     ]
    },
    {
     "name": "stdout",
     "output_type": "stream",
     "text": [
      "load topic model\n",
      "paraphrase-multilingual-mpnet-base-v2_topic_model_30\n",
      "reduce outliers\n"
     ]
    },
    {
     "name": "stderr",
     "output_type": "stream",
     "text": [
      "100%|██████████| 3/3 [00:02<00:00,  1.28it/s]\n",
      "2025-10-28 12:18:12,619 - BERTopic - WARNING: Using a custom list of topic assignments may lead to errors if topic reduction techniques are used afterwards. Make sure that manually assigning topics is the last step in the pipeline.Note that topic embeddings will also be created through weightedc-TF-IDF embeddings instead of centroid embeddings.\n"
     ]
    },
    {
     "name": "stdout",
     "output_type": "stream",
     "text": [
      "update topics\n"
     ]
    },
    {
     "name": "stderr",
     "output_type": "stream",
     "text": [
      " 33%|███▎      | 1/3 [00:04<00:08,  4.28s/it]"
     ]
    },
    {
     "name": "stdout",
     "output_type": "stream",
     "text": [
      "store info\n",
      "save updated topic model\n",
      "load topic model\n",
      "paraphrase-multilingual-mpnet-base-v2_topic_model_10\n",
      "reduce outliers\n"
     ]
    },
    {
     "name": "stderr",
     "output_type": "stream",
     "text": [
      "100%|██████████| 2/2 [00:01<00:00,  1.09it/s]\n",
      "2025-10-28 12:18:16,207 - BERTopic - WARNING: Using a custom list of topic assignments may lead to errors if topic reduction techniques are used afterwards. Make sure that manually assigning topics is the last step in the pipeline.Note that topic embeddings will also be created through weightedc-TF-IDF embeddings instead of centroid embeddings.\n"
     ]
    },
    {
     "name": "stdout",
     "output_type": "stream",
     "text": [
      "update topics\n"
     ]
    },
    {
     "name": "stderr",
     "output_type": "stream",
     "text": [
      " 67%|██████▋   | 2/3 [00:07<00:03,  3.88s/it]"
     ]
    },
    {
     "name": "stdout",
     "output_type": "stream",
     "text": [
      "store info\n",
      "save updated topic model\n",
      "load topic model\n",
      "paraphrase-multilingual-mpnet-base-v2_topic_model_20\n",
      "reduce outliers\n"
     ]
    },
    {
     "name": "stderr",
     "output_type": "stream",
     "text": [
      "100%|██████████| 2/2 [00:02<00:00,  1.10s/it]\n",
      "2025-10-28 12:18:20,182 - BERTopic - WARNING: Using a custom list of topic assignments may lead to errors if topic reduction techniques are used afterwards. Make sure that manually assigning topics is the last step in the pipeline.Note that topic embeddings will also be created through weightedc-TF-IDF embeddings instead of centroid embeddings.\n"
     ]
    },
    {
     "name": "stdout",
     "output_type": "stream",
     "text": [
      "update topics\n"
     ]
    },
    {
     "name": "stderr",
     "output_type": "stream",
     "text": [
      "100%|██████████| 3/3 [00:11<00:00,  3.95s/it]"
     ]
    },
    {
     "name": "stdout",
     "output_type": "stream",
     "text": [
      "store info\n",
      "save updated topic model\n"
     ]
    },
    {
     "name": "stderr",
     "output_type": "stream",
     "text": [
      "\n"
     ]
    }
   ],
   "source": [
    "#loop over model folders, load model, reduce outliers, store info for inspection + store updated model\n",
    "\n",
    "model_folder = \"BERTopic_models/elections\"\n",
    "\n",
    "for model_file in tqdm(os.listdir(model_folder)):\n",
    "\n",
    "    if model_file.endswith('.csv'): #skip csvs with info, only parse folders\n",
    "        continue\n",
    "\n",
    "    if model_file.endswith('reduced_outliers'):\n",
    "        continue\n",
    "\n",
    "    #load model\n",
    "    print('load topic model')\n",
    "    print(model_file)\n",
    "    topic_model = BERTopic.load(os.path.join(model_folder, model_file), embedding_model = embeddings)\n",
    "\n",
    "    #refine the topic model: reduce outliers\n",
    "    old_topics = topic_model.topics_\n",
    "\n",
    "    print('reduce outliers')\n",
    "    new_topics = topic_model.reduce_outliers(docs, old_topics)\n",
    "\n",
    "    print('update topics')\n",
    "    topic_model.update_topics(docs, topics = new_topics)\n",
    "\n",
    "    #check new topics\n",
    "    topic_model_info = topic_model.get_topic_info()\n",
    "\n",
    "    #store topic model info for inspection\n",
    "    print('store info')\n",
    "    topic_model_info.to_csv(os.path.join(model_folder, model_file + '_info.csv'))\n",
    "\n",
    "    #save the updated model\n",
    "    print('save updated topic model')\n",
    "    updated_topic_model_filename = model_file + \"_reduced_outliers\"\n",
    "    updated_model_path = os.path.join(model_folder, updated_topic_model_filename)\n",
    "    if not os.path.isdir(updated_model_path):\n",
    "        os.mkdir(updated_model_path)\n",
    "    topic_model.save(updated_model_path, serialization=\"safetensors\", save_ctfidf=True)"
   ]
  },
  {
   "cell_type": "code",
   "execution_count": null,
   "id": "7110dcf0",
   "metadata": {},
   "outputs": [],
   "source": []
  }
 ],
 "metadata": {
  "kernelspec": {
   "display_name": "bert_embeddings",
   "language": "python",
   "name": "python3"
  },
  "language_info": {
   "codemirror_mode": {
    "name": "ipython",
    "version": 3
   },
   "file_extension": ".py",
   "mimetype": "text/x-python",
   "name": "python",
   "nbconvert_exporter": "python",
   "pygments_lexer": "ipython3",
   "version": "3.10.14"
  }
 },
 "nbformat": 4,
 "nbformat_minor": 5
}
