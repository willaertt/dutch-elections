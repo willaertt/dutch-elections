{
 "cells": [
  {
   "cell_type": "code",
   "execution_count": 1,
   "id": "5d44be0e",
   "metadata": {},
   "outputs": [
    {
     "name": "stderr",
     "output_type": "stream",
     "text": [
      "/home/tom/.local/lib/python3.10/site-packages/tqdm/auto.py:21: TqdmWarning: IProgress not found. Please update jupyter and ipywidgets. See https://ipywidgets.readthedocs.io/en/stable/user_install.html\n",
      "  from .autonotebook import tqdm as notebook_tqdm\n"
     ]
    }
   ],
   "source": [
    "'''\n",
    "Generate embeddings for dataset\n",
    "'''\n",
    "\n",
    "#import libraries\n",
    "import numpy as np\n",
    "import os\n",
    "import pandas as pd\n",
    "from sentence_transformers import SentenceTransformer"
   ]
  },
  {
   "cell_type": "code",
   "execution_count": null,
   "id": "a8fa0c65",
   "metadata": {},
   "outputs": [
    {
     "name": "stdout",
     "output_type": "stream",
     "text": [
      "load data\n"
     ]
    },
    {
     "name": "stdout",
     "output_type": "stream",
     "text": [
      "number of docs 22499\n",
      "load model paraphrase-multilingual-mpnet-base-v2\n",
      "generate embeddings\n"
     ]
    },
    {
     "name": "stderr",
     "output_type": "stream",
     "text": [
      "Batches: 100%|██████████| 352/352 [07:52<00:00,  1.34s/it]"
     ]
    },
    {
     "name": "stdout",
     "output_type": "stream",
     "text": [
      "save embeddings\n",
      "done\n"
     ]
    },
    {
     "name": "stderr",
     "output_type": "stream",
     "text": [
      "\n"
     ]
    }
   ],
   "source": [
    "if __name__ == \"__main__\":\n",
    "\n",
    "    #specify path to data files\n",
    "    csv_sample_file = \"/home/tom/Documents/code/GitHub/dutch-elections/DATA/Parties_and_LeadersV2.csv\"\n",
    "\n",
    "    #specify path to embedding output folder\n",
    "    output_path = \"embeddings\"\n",
    "\n",
    "    #specify models\n",
    "    models = [\"paraphrase-multilingual-mpnet-base-v2\"]\n",
    "    embedding_filenames = ['_'.join(model_name.split('/')) + '.npy' for model_name in models]\n",
    "   \n",
    "    #load data\n",
    "    print('load data')\n",
    "    telegram_df = pd.read_csv(csv_sample_file)\n",
    "    docs = list(telegram_df['text']) #get list of messages\n",
    "    print('number of docs', len(docs))\n",
    "\n",
    "    #load model, generate embeddings, save them\n",
    "    for model, embedding_filename in zip(models, embedding_filenames):\n",
    "\n",
    "        print('load model', model)\n",
    "        loaded_model = SentenceTransformer(model)\n",
    "\n",
    "        #generate embeddings\n",
    "        print('generate embeddings')\n",
    "        embeddings = loaded_model.encode(docs, show_progress_bar=True, batch_size=64)\n",
    "\n",
    "        #save embeddings\n",
    "        print('save embeddings')\n",
    "        output_file = os.path.join(output_path, embedding_filename)\n",
    "        np.save(output_file, embeddings)\n",
    "\n",
    "    print('done')"
   ]
  },
  {
   "cell_type": "code",
   "execution_count": null,
   "id": "91c64813",
   "metadata": {},
   "outputs": [],
   "source": []
  }
 ],
 "metadata": {
  "kernelspec": {
   "display_name": "bert_embeddings",
   "language": "python",
   "name": "python3"
  },
  "language_info": {
   "codemirror_mode": {
    "name": "ipython",
    "version": 3
   },
   "file_extension": ".py",
   "mimetype": "text/x-python",
   "name": "python",
   "nbconvert_exporter": "python",
   "pygments_lexer": "ipython3",
   "version": "3.10.14"
  }
 },
 "nbformat": 4,
 "nbformat_minor": 5
}
