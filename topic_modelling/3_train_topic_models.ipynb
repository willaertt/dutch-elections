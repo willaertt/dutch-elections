{
 "cells": [
  {
   "cell_type": "code",
   "execution_count": 2,
   "id": "60ec053e",
   "metadata": {},
   "outputs": [
    {
     "name": "stderr",
     "output_type": "stream",
     "text": [
      "2025-10-28 12:14:22,606 - BERTopic - Dimensionality - Fitting the dimensionality reduction algorithm\n"
     ]
    },
    {
     "name": "stdout",
     "output_type": "stream",
     "text": [
      "load data\n",
      "number of docs 4614\n",
      "load embeddings\n",
      "fit topic model with min size 10 and model paraphrase-multilingual-mpnet-base-v2\n"
     ]
    },
    {
     "name": "stderr",
     "output_type": "stream",
     "text": [
      "2025-10-28 12:14:35,951 - BERTopic - Dimensionality - Completed ✓\n",
      "2025-10-28 12:14:35,952 - BERTopic - Cluster - Start clustering the reduced embeddings\n",
      "2025-10-28 12:14:36,047 - BERTopic - Cluster - Completed ✓\n",
      "2025-10-28 12:14:36,049 - BERTopic - Representation - Fine-tuning topics using representation models.\n",
      "2025-10-28 12:14:36,526 - BERTopic - Representation - Completed ✓\n",
      "2025-10-28 12:14:37,016 - BERTopic - Dimensionality - Fitting the dimensionality reduction algorithm\n"
     ]
    },
    {
     "name": "stdout",
     "output_type": "stream",
     "text": [
      "save topic model\n",
      "create topic model folder\n",
      "load embeddings\n",
      "fit topic model with min size 20 and model paraphrase-multilingual-mpnet-base-v2\n"
     ]
    },
    {
     "name": "stderr",
     "output_type": "stream",
     "text": [
      "2025-10-28 12:14:37,809 - BERTopic - Dimensionality - Completed ✓\n",
      "2025-10-28 12:14:37,810 - BERTopic - Cluster - Start clustering the reduced embeddings\n",
      "2025-10-28 12:14:37,903 - BERTopic - Cluster - Completed ✓\n",
      "2025-10-28 12:14:37,905 - BERTopic - Representation - Fine-tuning topics using representation models.\n",
      "2025-10-28 12:14:38,380 - BERTopic - Representation - Completed ✓\n",
      "2025-10-28 12:14:38,770 - BERTopic - Dimensionality - Fitting the dimensionality reduction algorithm\n"
     ]
    },
    {
     "name": "stdout",
     "output_type": "stream",
     "text": [
      "save topic model\n",
      "create topic model folder\n",
      "load embeddings\n",
      "fit topic model with min size 30 and model paraphrase-multilingual-mpnet-base-v2\n"
     ]
    },
    {
     "name": "stderr",
     "output_type": "stream",
     "text": [
      "2025-10-28 12:14:39,559 - BERTopic - Dimensionality - Completed ✓\n",
      "2025-10-28 12:14:39,559 - BERTopic - Cluster - Start clustering the reduced embeddings\n",
      "2025-10-28 12:14:39,661 - BERTopic - Cluster - Completed ✓\n",
      "2025-10-28 12:14:39,663 - BERTopic - Representation - Fine-tuning topics using representation models.\n",
      "2025-10-28 12:14:40,096 - BERTopic - Representation - Completed ✓\n"
     ]
    },
    {
     "name": "stdout",
     "output_type": "stream",
     "text": [
      "save topic model\n"
     ]
    }
   ],
   "source": [
    "'''\n",
    "Pipeline for training BERTopic models for different min topic size tresholds as well\n",
    "https://huggingface.co/cointegrated/rubert-tiny2 \n",
    "https://huggingface.co/ai-forever/sbert_large_mt_nlu_ru\n",
    "\n",
    "'''\n",
    "\n",
    "#import libraries\n",
    "import numpy as np\n",
    "import os\n",
    "import pandas as pd\n",
    "from bertopic import BERTopic\n",
    "\n",
    "if __name__ == \"__main__\":\n",
    "\n",
    "    #specify path to data files\n",
    "    csv_sample_file = \"/home/tom/Documents/code/GitHub/dutch-elections/DATA/Parties_and_LeadersV2.csv\"\n",
    "\n",
    "    #specify path to embeddings\n",
    "    embeddings_folder = \"embeddings\"\n",
    "   \n",
    "    #load data\n",
    "    print('load data')\n",
    "    telegram_df = pd.read_csv(csv_sample_file)\n",
    "\n",
    "    docs = list(telegram_df['text']) #get list of messages\n",
    "    sample_size = print('number of docs', len(docs))\n",
    "\n",
    "    #train the topic model with different minimum topic sizes and for different embedding models\n",
    "    min_topic_sizes = [10, 20, 30]\n",
    "\n",
    "    for topic_size in min_topic_sizes:\n",
    "        for embedding_file in os.listdir(embeddings_folder):\n",
    "\n",
    "            #get name for embedding file \n",
    "            embedding_name = embedding_file.split('.')[0]\n",
    "\n",
    "            #check if the directory for storing the topic model exists, otherwise create it\n",
    "            topic_model_folder = \"BERTopic_models/\" + embedding_name + \"_topic_model_\" + str(topic_size)\n",
    "            if not os.path.isdir(topic_model_folder):\n",
    "                print('create topic model folder')\n",
    "                os.mkdir(topic_model_folder)\n",
    "\n",
    "            print('load embeddings')\n",
    "            embedding_path = os.path.join(embeddings_folder, embedding_file)\n",
    "            embedding = np.load(embedding_path)\n",
    "\n",
    "            #fit the model to the messages\n",
    "            print('fit topic model with min size' , str(topic_size), 'and model', embedding_name)\n",
    "            topic_model = BERTopic(min_topic_size = topic_size, verbose =True) \n",
    "            topics, probabilities = topic_model.fit_transform(docs, embedding)\n",
    "\n",
    "            print('save topic model')\n",
    "            topic_model.save(topic_model_folder, serialization=\"safetensors\", save_ctfidf=True)"
   ]
  },
  {
   "cell_type": "code",
   "execution_count": null,
   "id": "6f43e995",
   "metadata": {},
   "outputs": [],
   "source": []
  }
 ],
 "metadata": {
  "kernelspec": {
   "display_name": "bert_embeddings",
   "language": "python",
   "name": "python3"
  },
  "language_info": {
   "codemirror_mode": {
    "name": "ipython",
    "version": 3
   },
   "file_extension": ".py",
   "mimetype": "text/x-python",
   "name": "python",
   "nbconvert_exporter": "python",
   "pygments_lexer": "ipython3",
   "version": "3.10.14"
  }
 },
 "nbformat": 4,
 "nbformat_minor": 5
}
