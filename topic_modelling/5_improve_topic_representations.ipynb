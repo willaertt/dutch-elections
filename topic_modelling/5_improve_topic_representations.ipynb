{
 "cells": [
  {
   "cell_type": "code",
   "execution_count": 1,
   "id": "4c4d2308",
   "metadata": {},
   "outputs": [
    {
     "data": {
      "text/plain": [
       "'\\nCheck improved topic representation for selected model\\n'"
      ]
     },
     "execution_count": 1,
     "metadata": {},
     "output_type": "execute_result"
    }
   ],
   "source": [
    "'''\n",
    "Check improved topic representation for selected model\n",
    "'''"
   ]
  },
  {
   "cell_type": "code",
   "execution_count": 2,
   "id": "2c957be6",
   "metadata": {},
   "outputs": [
    {
     "name": "stdout",
     "output_type": "stream",
     "text": [
      "Requirement already satisfied: stopwordsiso in /home/tom/anaconda3/envs/bert_embeddings/lib/python3.10/site-packages (0.6.1)\n"
     ]
    }
   ],
   "source": [
    "!pip install stopwordsiso"
   ]
  },
  {
   "cell_type": "code",
   "execution_count": 3,
   "id": "0dc2ed8e",
   "metadata": {},
   "outputs": [],
   "source": [
    "from stopwordsiso import stopwords\n",
    "stopwords_nl = list(stopwords('nl'))"
   ]
  },
  {
   "cell_type": "code",
   "execution_count": null,
   "id": "4453dfd3",
   "metadata": {},
   "outputs": [
    {
     "name": "stderr",
     "output_type": "stream",
     "text": [
      "/home/tom/.local/lib/python3.10/site-packages/tqdm/auto.py:21: TqdmWarning: IProgress not found. Please update jupyter and ipywidgets. See https://ipywidgets.readthedocs.io/en/stable/user_install.html\n",
      "  from .autonotebook import tqdm as notebook_tqdm\n"
     ]
    },
    {
     "name": "stdout",
     "output_type": "stream",
     "text": [
      "load data\n",
      "number of docs 22499\n"
     ]
    }
   ],
   "source": [
    "#import libraries\n",
    "\n",
    "import numpy as np\n",
    "import os\n",
    "from bertopic import BERTopic\n",
    "import pandas as pd\n",
    "from tqdm import tqdm\n",
    "from sentence_transformers import SentenceTransformer\n",
    "from sklearn.feature_extraction.text import CountVectorizer, TfidfVectorizer\n",
    "\n",
    "#specify path to data files\n",
    "csv_sample_file = \"/home/tom/Documents/code/GitHub/dutch-elections/DATA/Parties_and_LeadersV2.csv\"\n",
    "\n",
    "#load data\n",
    "print('load data')\n",
    "telegram_df = pd.read_csv(csv_sample_file)\n",
    "\n",
    "docs = list(telegram_df['text']) #get list of messages\n",
    "sample_size = print('number of docs', len(docs))\n",
    "\n",
    "#load embeddings\n",
    "embedding = np.load(\"/home/tom/Documents/code/GitHub/dutch-elections/embeddings/paraphrase-multilingual-mpnet-base-v2.npy\")"
   ]
  },
  {
   "cell_type": "code",
   "execution_count": null,
   "id": "5c3221b5",
   "metadata": {},
   "outputs": [
    {
     "name": "stderr",
     "output_type": "stream",
     "text": [
      "  0%|          | 0/7 [00:00<?, ?it/s]"
     ]
    },
    {
     "name": "stdout",
     "output_type": "stream",
     "text": [
      "load topic model\n",
      "update topic model labels\n",
      "save updated topic model and topic model information\n",
      "create topic model folder: BERTopic_models/paraphrase-multilingual-mpnet-base-v2_topic_model_50_reduced_outliers_updated_keywords\n",
      "save updated topic model\n"
     ]
    },
    {
     "name": "stderr",
     "output_type": "stream",
     "text": [
      " 29%|██▊       | 2/7 [00:06<00:16,  3.37s/it]"
     ]
    },
    {
     "name": "stdout",
     "output_type": "stream",
     "text": [
      "store info\n",
      "load topic model\n",
      "update topic model labels\n",
      "save updated topic model and topic model information\n",
      "create topic model folder: BERTopic_models/paraphrase-multilingual-mpnet-base-v2_topic_model_60_reduced_outliers_updated_keywords\n",
      "save updated topic model\n"
     ]
    },
    {
     "name": "stderr",
     "output_type": "stream",
     "text": [
      "100%|██████████| 7/7 [00:13<00:00,  1.94s/it]"
     ]
    },
    {
     "name": "stdout",
     "output_type": "stream",
     "text": [
      "store info\n"
     ]
    },
    {
     "name": "stderr",
     "output_type": "stream",
     "text": [
      "\n"
     ]
    }
   ],
   "source": [
    "model_folder = \"BERTopic_models/elections\"\n",
    "\n",
    "for model_file in tqdm(os.listdir(model_folder)):\n",
    "\n",
    "    if not model_file.endswith('reduced_outliers'):\n",
    "        continue\n",
    "\n",
    "    #load model\n",
    "    print('load topic model')\n",
    "    topic_model = BERTopic.load(os.path.join(model_folder, model_file), embedding_model = embedding)\n",
    "\n",
    "\n",
    "    #set parameters for topic labels\n",
    "    vectorizer_model = CountVectorizer(ngram_range=(1, 2), max_df = 0.7, stop_words= stopwords_nl)\n",
    "    topic_model.update_topics(docs, vectorizer_model=vectorizer_model)\n",
    "\n",
    "    topic_labels = topic_model.generate_topic_labels(nr_words=50,\n",
    "                                                    topic_prefix=True,\n",
    "                                                    word_length=50,\n",
    "                                                    separator=\", \")\n",
    "\n",
    "    print('update topic model labels')\n",
    "    topic_model.set_topic_labels(topic_labels)\n",
    "\n",
    "    #save the updated topic model and topic model information\n",
    "    print('save updated topic model and topic model information')\n",
    "    updated_topic_model_directory = os.path.join(model_folder, model_file + '_updated_keywords')\n",
    "    if not os.path.isdir(updated_topic_model_directory):\n",
    "        print('create topic model folder:', updated_topic_model_directory)\n",
    "        os.mkdir(updated_topic_model_directory)\n",
    "\n",
    "    print('save updated topic model')\n",
    "    embedding_model = SentenceTransformer(\"\")\n",
    "    topic_model.save(updated_topic_model_directory, serialization=\"safetensors\", save_ctfidf=True, save_embedding_model=embedding_model)\n",
    "\n",
    "    #check new topics\n",
    "    topic_model_info = topic_model.get_topic_info()\n",
    "\n",
    "    #store topic model info for inspection\n",
    "    print('store info')\n",
    "    topic_model_info.to_csv(os.path.join(model_folder, model_file + '__updated_keywords.csv'))\n"
   ]
  },
  {
   "cell_type": "code",
   "execution_count": null,
   "id": "6cd367fc",
   "metadata": {},
   "outputs": [],
   "source": [
    "#inspect the topic model\n",
    "import numpy as np\n",
    "from bertopic import BERTopic\n",
    "\n",
    "print('load topic model')\n",
    "embedding = np.load(\"/home/tom/Documents/code/GitHub/dutch-elections/embeddings/paraphrase-multilingual-mpnet-base-v2.npy\")\n",
    "topic_model = BERTopic.load(\"home/tom/Documents/code/GitHub/dutch-elections/BERTopic_models/paraphrase-multilingual-mpnet-base-v2_topic_model_70_reduced_outliers_updated_keywords\", embedding_model = embedding)\n",
    "topic_info = topic_model.get_topic_info()"
   ]
  },
  {
   "cell_type": "code",
   "execution_count": null,
   "id": "97045a06",
   "metadata": {},
   "outputs": [],
   "source": [
    "#fit topics to documents\n",
    "print('fit docs to topics')\n",
    "topics = topic_model.topics_  \n",
    "doc_to_topic_df = pd.DataFrame({\"document\": docs, \"topic\": topics})\n",
    "doc_to_topic_df.to_csv('doc_to_topic.csv')"
   ]
  },
  {
   "cell_type": "code",
   "execution_count": null,
   "id": "5add7876",
   "metadata": {},
   "outputs": [],
   "source": [
    "doc_to_topic_df"
   ]
  }
 ],
 "metadata": {
  "kernelspec": {
   "display_name": "bert_embeddings",
   "language": "python",
   "name": "python3"
  },
  "language_info": {
   "codemirror_mode": {
    "name": "ipython",
    "version": 3
   },
   "file_extension": ".py",
   "mimetype": "text/x-python",
   "name": "python",
   "nbconvert_exporter": "python",
   "pygments_lexer": "ipython3",
   "version": "3.10.14"
  }
 },
 "nbformat": 4,
 "nbformat_minor": 5
}
