{
 "cells": [
  {
   "cell_type": "code",
   "execution_count": null,
   "id": "60ec053e",
   "metadata": {},
   "outputs": [
    {
     "name": "stderr",
     "output_type": "stream",
     "text": [
      "/home/tom/.local/lib/python3.10/site-packages/tqdm/auto.py:21: TqdmWarning: IProgress not found. Please update jupyter and ipywidgets. See https://ipywidgets.readthedocs.io/en/stable/user_install.html\n",
      "  from .autonotebook import tqdm as notebook_tqdm\n",
      "2025-10-27 16:59:34,629 - BERTopic - Dimensionality - Fitting the dimensionality reduction algorithm\n"
     ]
    },
    {
     "name": "stdout",
     "output_type": "stream",
     "text": [
      "load data\n",
      "number of docs 4530\n",
      "create topic model folder\n",
      "load embeddings\n",
      "fit topic model with min size 50 and model paraphrase-multilingual-mpnet-base-v2\n"
     ]
    },
    {
     "name": "stderr",
     "output_type": "stream",
     "text": [
      "2025-10-27 16:59:48,649 - BERTopic - Dimensionality - Completed ✓\n",
      "2025-10-27 16:59:48,649 - BERTopic - Cluster - Start clustering the reduced embeddings\n",
      "2025-10-27 16:59:48,760 - BERTopic - Cluster - Completed ✓\n",
      "2025-10-27 16:59:48,765 - BERTopic - Representation - Fine-tuning topics using representation models.\n",
      "2025-10-27 16:59:49,178 - BERTopic - Representation - Completed ✓\n",
      "2025-10-27 16:59:49,387 - BERTopic - Dimensionality - Fitting the dimensionality reduction algorithm\n"
     ]
    },
    {
     "name": "stdout",
     "output_type": "stream",
     "text": [
      "save topic model\n",
      "create topic model folder\n",
      "load embeddings\n",
      "fit topic model with min size 60 and model paraphrase-multilingual-mpnet-base-v2\n"
     ]
    },
    {
     "name": "stderr",
     "output_type": "stream",
     "text": [
      "2025-10-27 16:59:50,243 - BERTopic - Dimensionality - Completed ✓\n",
      "2025-10-27 16:59:50,243 - BERTopic - Cluster - Start clustering the reduced embeddings\n",
      "2025-10-27 16:59:50,359 - BERTopic - Cluster - Completed ✓\n",
      "2025-10-27 16:59:50,360 - BERTopic - Representation - Fine-tuning topics using representation models.\n",
      "2025-10-27 16:59:50,784 - BERTopic - Representation - Completed ✓\n",
      "2025-10-27 16:59:50,940 - BERTopic - Dimensionality - Fitting the dimensionality reduction algorithm\n"
     ]
    },
    {
     "name": "stdout",
     "output_type": "stream",
     "text": [
      "save topic model\n",
      "create topic model folder\n",
      "load embeddings\n",
      "fit topic model with min size 70 and model paraphrase-multilingual-mpnet-base-v2\n"
     ]
    },
    {
     "name": "stderr",
     "output_type": "stream",
     "text": [
      "2025-10-27 16:59:51,745 - BERTopic - Dimensionality - Completed ✓\n",
      "2025-10-27 16:59:51,745 - BERTopic - Cluster - Start clustering the reduced embeddings\n",
      "2025-10-27 16:59:51,869 - BERTopic - Cluster - Completed ✓\n",
      "2025-10-27 16:59:51,871 - BERTopic - Representation - Fine-tuning topics using representation models.\n",
      "2025-10-27 16:59:52,287 - BERTopic - Representation - Completed ✓\n",
      "2025-10-27 16:59:52,444 - BERTopic - Dimensionality - Fitting the dimensionality reduction algorithm\n"
     ]
    },
    {
     "name": "stdout",
     "output_type": "stream",
     "text": [
      "save topic model\n",
      "create topic model folder\n",
      "load embeddings\n",
      "fit topic model with min size 80 and model paraphrase-multilingual-mpnet-base-v2\n"
     ]
    },
    {
     "name": "stderr",
     "output_type": "stream",
     "text": [
      "2025-10-27 16:59:53,268 - BERTopic - Dimensionality - Completed ✓\n",
      "2025-10-27 16:59:53,268 - BERTopic - Cluster - Start clustering the reduced embeddings\n",
      "2025-10-27 16:59:53,407 - BERTopic - Cluster - Completed ✓\n",
      "2025-10-27 16:59:53,408 - BERTopic - Representation - Fine-tuning topics using representation models.\n",
      "2025-10-27 16:59:53,833 - BERTopic - Representation - Completed ✓\n",
      "2025-10-27 16:59:54,015 - BERTopic - Dimensionality - Fitting the dimensionality reduction algorithm\n"
     ]
    },
    {
     "name": "stdout",
     "output_type": "stream",
     "text": [
      "save topic model\n",
      "create topic model folder\n",
      "load embeddings\n",
      "fit topic model with min size 90 and model paraphrase-multilingual-mpnet-base-v2\n"
     ]
    },
    {
     "name": "stderr",
     "output_type": "stream",
     "text": [
      "2025-10-27 16:59:54,814 - BERTopic - Dimensionality - Completed ✓\n",
      "2025-10-27 16:59:54,815 - BERTopic - Cluster - Start clustering the reduced embeddings\n",
      "2025-10-27 16:59:54,975 - BERTopic - Cluster - Completed ✓\n",
      "2025-10-27 16:59:54,977 - BERTopic - Representation - Fine-tuning topics using representation models.\n",
      "2025-10-27 16:59:55,405 - BERTopic - Representation - Completed ✓\n",
      "2025-10-27 16:59:55,591 - BERTopic - Dimensionality - Fitting the dimensionality reduction algorithm\n"
     ]
    },
    {
     "name": "stdout",
     "output_type": "stream",
     "text": [
      "save topic model\n",
      "create topic model folder\n",
      "load embeddings\n",
      "fit topic model with min size 100 and model paraphrase-multilingual-mpnet-base-v2\n"
     ]
    },
    {
     "name": "stderr",
     "output_type": "stream",
     "text": [
      "2025-10-27 16:59:56,388 - BERTopic - Dimensionality - Completed ✓\n",
      "2025-10-27 16:59:56,389 - BERTopic - Cluster - Start clustering the reduced embeddings\n",
      "2025-10-27 16:59:56,539 - BERTopic - Cluster - Completed ✓\n",
      "2025-10-27 16:59:56,541 - BERTopic - Representation - Fine-tuning topics using representation models.\n",
      "2025-10-27 16:59:56,945 - BERTopic - Representation - Completed ✓\n"
     ]
    },
    {
     "name": "stdout",
     "output_type": "stream",
     "text": [
      "save topic model\n"
     ]
    }
   ],
   "source": [
    "'''\n",
    "Pipeline for training BERTopic models for different min topic size tresholds as well\n",
    "https://huggingface.co/cointegrated/rubert-tiny2 \n",
    "https://huggingface.co/ai-forever/sbert_large_mt_nlu_ru\n",
    "\n",
    "'''\n",
    "\n",
    "#import libraries\n",
    "import numpy as np\n",
    "import os\n",
    "import pandas as pd\n",
    "from bertopic import BERTopic\n",
    "\n",
    "if __name__ == \"__main__\":\n",
    "\n",
    "    #specify path to data files\n",
    "    csv_sample_file = \"/home/tom/Documents/code/GitHub/dutch-elections/DATA/Parties_and_Leaders_74128_20251027_143525.csv\"\n",
    "\n",
    "    #specify path to embeddings\n",
    "    embeddings_folder = \"embeddings\"\n",
    "   \n",
    "    #load data\n",
    "    print('load data')\n",
    "    telegram_df = pd.read_csv(csv_sample_file)\n",
    "\n",
    "    docs = list(telegram_df['text']) #get list of messages\n",
    "    sample_size = print('number of docs', len(docs))\n",
    "\n",
    "    #train the topic model with different minimum topic sizes and for different embedding models\n",
    "    min_topic_sizes = [50, 60, 70, 80, 90, 100]\n",
    "\n",
    "    for topic_size in min_topic_sizes:\n",
    "        for embedding_file in os.listdir(embeddings_folder):\n",
    "\n",
    "            #get name for embedding file \n",
    "            embedding_name = embedding_file.split('.')[0]\n",
    "\n",
    "            #check if the directory for storing the topic model exists, otherwise create it\n",
    "            topic_model_folder = \"BERTopic_models/\" + embedding_name + \"_topic_model_\" + str(topic_size)\n",
    "            if not os.path.isdir(topic_model_folder):\n",
    "                print('create topic model folder')\n",
    "                os.mkdir(topic_model_folder)\n",
    "\n",
    "            print('load embeddings')\n",
    "            embedding_path = os.path.join(embeddings_folder, embedding_file)\n",
    "            embedding = np.load(embedding_path)\n",
    "\n",
    "            #fit the model to the messages\n",
    "            print('fit topic model with min size' , str(topic_size), 'and model', embedding_name)\n",
    "            topic_model = BERTopic(min_topic_size = topic_size, verbose =True) \n",
    "            topics, probabilities = topic_model.fit_transform(docs, embedding)\n",
    "\n",
    "            print('save topic model')\n",
    "            topic_model.save(topic_model_folder, serialization=\"safetensors\", save_ctfidf=True)"
   ]
  },
  {
   "cell_type": "code",
   "execution_count": null,
   "id": "2d7ba837",
   "metadata": {},
   "outputs": [],
   "source": []
  }
 ],
 "metadata": {
  "kernelspec": {
   "display_name": "bert_embeddings",
   "language": "python",
   "name": "python3"
  },
  "language_info": {
   "codemirror_mode": {
    "name": "ipython",
    "version": 3
   },
   "file_extension": ".py",
   "mimetype": "text/x-python",
   "name": "python",
   "nbconvert_exporter": "python",
   "pygments_lexer": "ipython3",
   "version": "3.10.14"
  }
 },
 "nbformat": 4,
 "nbformat_minor": 5
}
