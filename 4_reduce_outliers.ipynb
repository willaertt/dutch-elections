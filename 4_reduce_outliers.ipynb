{
 "cells": [
  {
   "cell_type": "code",
   "execution_count": 4,
   "id": "5a7f6db1",
   "metadata": {},
   "outputs": [
    {
     "data": {
      "text/plain": [
       "'\\nInspect topic models and reduce outliers\\n'"
      ]
     },
     "execution_count": 4,
     "metadata": {},
     "output_type": "execute_result"
    }
   ],
   "source": [
    "'''\n",
    "Inspect topic models and reduce outliers\n",
    "'''"
   ]
  },
  {
   "cell_type": "code",
   "execution_count": 7,
   "id": "baac61eb",
   "metadata": {},
   "outputs": [
    {
     "name": "stdout",
     "output_type": "stream",
     "text": [
      "load data\n",
      "number of docs 4530\n"
     ]
    }
   ],
   "source": [
    "#import libraries\n",
    "import numpy as np\n",
    "import os\n",
    "from bertopic import BERTopic\n",
    "import pandas as pd\n",
    "from tqdm import tqdm\n",
    "\n",
    "#specify path to data files\n",
    "csv_sample_file = \"/home/tom/Documents/code/GitHub/dutch-elections/DATA/Parties_and_Leaders_74128_20251027_143525.csv\"\n",
    "\n",
    "#load data\n",
    "print('load data')\n",
    "telegram_df = pd.read_csv(csv_sample_file)\n",
    "\n",
    "docs = list(telegram_df['text']) #get list of messages\n",
    "sample_size = print('number of docs', len(docs))\n",
    "\n",
    "#load embeddings\n",
    "embeddings = np.load(\"/home/tom/Documents/code/GitHub/dutch-elections/embeddings/paraphrase-multilingual-mpnet-base-v2.npy\")"
   ]
  },
  {
   "cell_type": "code",
   "execution_count": 8,
   "id": "e7c2090c",
   "metadata": {},
   "outputs": [
    {
     "name": "stderr",
     "output_type": "stream",
     "text": [
      "  0%|          | 0/6 [00:00<?, ?it/s]"
     ]
    },
    {
     "name": "stdout",
     "output_type": "stream",
     "text": [
      "load topic model\n",
      "paraphrase-multilingual-mpnet-base-v2_topic_model_70\n",
      "reduce outliers\n"
     ]
    },
    {
     "name": "stderr",
     "output_type": "stream",
     "text": [
      "100%|██████████| 1/1 [00:00<00:00,  2.73it/s]\n",
      "2025-10-27 17:20:03,971 - BERTopic - WARNING: Using a custom list of topic assignments may lead to errors if topic reduction techniques are used afterwards. Make sure that manually assigning topics is the last step in the pipeline.Note that topic embeddings will also be created through weightedc-TF-IDF embeddings instead of centroid embeddings.\n"
     ]
    },
    {
     "name": "stdout",
     "output_type": "stream",
     "text": [
      "update topics\n"
     ]
    },
    {
     "name": "stderr",
     "output_type": "stream",
     "text": [
      " 17%|█▋        | 1/6 [00:02<00:12,  2.56s/it]"
     ]
    },
    {
     "name": "stdout",
     "output_type": "stream",
     "text": [
      "store info\n",
      "save updated topic model\n",
      "load topic model\n",
      "paraphrase-multilingual-mpnet-base-v2_topic_model_90\n",
      "reduce outliers\n"
     ]
    },
    {
     "name": "stderr",
     "output_type": "stream",
     "text": [
      "100%|██████████| 1/1 [00:00<00:00,  2.43it/s]\n",
      "2025-10-27 17:20:06,225 - BERTopic - WARNING: Using a custom list of topic assignments may lead to errors if topic reduction techniques are used afterwards. Make sure that manually assigning topics is the last step in the pipeline.Note that topic embeddings will also be created through weightedc-TF-IDF embeddings instead of centroid embeddings.\n"
     ]
    },
    {
     "name": "stdout",
     "output_type": "stream",
     "text": [
      "update topics\n"
     ]
    },
    {
     "name": "stderr",
     "output_type": "stream",
     "text": [
      " 33%|███▎      | 2/6 [00:04<00:09,  2.38s/it]"
     ]
    },
    {
     "name": "stdout",
     "output_type": "stream",
     "text": [
      "store info\n",
      "save updated topic model\n",
      "load topic model\n",
      "paraphrase-multilingual-mpnet-base-v2_topic_model_100\n",
      "reduce outliers\n"
     ]
    },
    {
     "name": "stderr",
     "output_type": "stream",
     "text": [
      "100%|██████████| 1/1 [00:00<00:00,  2.33it/s]\n",
      "2025-10-27 17:20:08,434 - BERTopic - WARNING: Using a custom list of topic assignments may lead to errors if topic reduction techniques are used afterwards. Make sure that manually assigning topics is the last step in the pipeline.Note that topic embeddings will also be created through weightedc-TF-IDF embeddings instead of centroid embeddings.\n"
     ]
    },
    {
     "name": "stdout",
     "output_type": "stream",
     "text": [
      "update topics\n"
     ]
    },
    {
     "name": "stderr",
     "output_type": "stream",
     "text": [
      " 50%|█████     | 3/6 [00:07<00:06,  2.30s/it]"
     ]
    },
    {
     "name": "stdout",
     "output_type": "stream",
     "text": [
      "store info\n",
      "save updated topic model\n",
      "load topic model\n",
      "paraphrase-multilingual-mpnet-base-v2_topic_model_80\n",
      "reduce outliers\n"
     ]
    },
    {
     "name": "stderr",
     "output_type": "stream",
     "text": [
      "100%|██████████| 1/1 [00:00<00:00,  1.93it/s]\n",
      "2025-10-27 17:20:10,763 - BERTopic - WARNING: Using a custom list of topic assignments may lead to errors if topic reduction techniques are used afterwards. Make sure that manually assigning topics is the last step in the pipeline.Note that topic embeddings will also be created through weightedc-TF-IDF embeddings instead of centroid embeddings.\n"
     ]
    },
    {
     "name": "stdout",
     "output_type": "stream",
     "text": [
      "update topics\n"
     ]
    },
    {
     "name": "stderr",
     "output_type": "stream",
     "text": [
      " 67%|██████▋   | 4/6 [00:09<00:04,  2.31s/it]"
     ]
    },
    {
     "name": "stdout",
     "output_type": "stream",
     "text": [
      "store info\n",
      "save updated topic model\n",
      "load topic model\n",
      "paraphrase-multilingual-mpnet-base-v2_topic_model_60\n",
      "reduce outliers\n"
     ]
    },
    {
     "name": "stderr",
     "output_type": "stream",
     "text": [
      "100%|██████████| 1/1 [00:00<00:00,  5.48it/s]\n",
      "2025-10-27 17:20:12,714 - BERTopic - WARNING: Using a custom list of topic assignments may lead to errors if topic reduction techniques are used afterwards. Make sure that manually assigning topics is the last step in the pipeline.Note that topic embeddings will also be created through weightedc-TF-IDF embeddings instead of centroid embeddings.\n"
     ]
    },
    {
     "name": "stdout",
     "output_type": "stream",
     "text": [
      "update topics\n"
     ]
    },
    {
     "name": "stderr",
     "output_type": "stream",
     "text": [
      " 83%|████████▎ | 5/6 [00:11<00:02,  2.18s/it]"
     ]
    },
    {
     "name": "stdout",
     "output_type": "stream",
     "text": [
      "store info\n",
      "save updated topic model\n",
      "load topic model\n",
      "paraphrase-multilingual-mpnet-base-v2_topic_model_50\n",
      "reduce outliers\n"
     ]
    },
    {
     "name": "stderr",
     "output_type": "stream",
     "text": [
      "100%|██████████| 1/1 [00:00<00:00,  1.68it/s]\n",
      "2025-10-27 17:20:15,081 - BERTopic - WARNING: Using a custom list of topic assignments may lead to errors if topic reduction techniques are used afterwards. Make sure that manually assigning topics is the last step in the pipeline.Note that topic embeddings will also be created through weightedc-TF-IDF embeddings instead of centroid embeddings.\n"
     ]
    },
    {
     "name": "stdout",
     "output_type": "stream",
     "text": [
      "update topics\n"
     ]
    },
    {
     "name": "stderr",
     "output_type": "stream",
     "text": [
      "100%|██████████| 6/6 [00:13<00:00,  2.28s/it]"
     ]
    },
    {
     "name": "stdout",
     "output_type": "stream",
     "text": [
      "store info\n",
      "save updated topic model\n"
     ]
    },
    {
     "name": "stderr",
     "output_type": "stream",
     "text": [
      "\n"
     ]
    }
   ],
   "source": [
    "#loop over model folders, load model, reduce outliers, store info for inspection + store updated model\n",
    "\n",
    "model_folder = \"BERTopic_models\"\n",
    "\n",
    "for model_file in tqdm(os.listdir(model_folder)):\n",
    "\n",
    "    if model_file.endswith('.csv'): #skip csvs with info, only parse folders\n",
    "        continue\n",
    "\n",
    "    if model_file.endswith('reduced_outliers'):\n",
    "        continue\n",
    "\n",
    "    #load model\n",
    "    print('load topic model')\n",
    "    print(model_file)\n",
    "    topic_model = BERTopic.load(os.path.join(model_folder, model_file), embedding_model = embeddings)\n",
    "\n",
    "    #refine the topic model: reduce outliers\n",
    "    old_topics = topic_model.topics_\n",
    "\n",
    "    print('reduce outliers')\n",
    "    new_topics = topic_model.reduce_outliers(docs, old_topics)\n",
    "\n",
    "    print('update topics')\n",
    "    topic_model.update_topics(docs, topics = new_topics)\n",
    "\n",
    "    #check new topics\n",
    "    topic_model_info = topic_model.get_topic_info()\n",
    "\n",
    "    #store topic model info for inspection\n",
    "    print('store info')\n",
    "    topic_model_info.to_csv(os.path.join(model_folder, model_file + '_info.csv'))\n",
    "\n",
    "    #save the updated model\n",
    "    print('save updated topic model')\n",
    "    updated_topic_model_filename = model_file + \"_reduced_outliers\"\n",
    "    updated_model_path = os.path.join(model_folder, updated_topic_model_filename)\n",
    "    if not os.path.isdir(updated_model_path):\n",
    "        os.mkdir(updated_model_path)\n",
    "    topic_model.save(updated_model_path, serialization=\"safetensors\", save_ctfidf=True)"
   ]
  },
  {
   "cell_type": "code",
   "execution_count": null,
   "id": "7110dcf0",
   "metadata": {},
   "outputs": [],
   "source": []
  }
 ],
 "metadata": {
  "kernelspec": {
   "display_name": "bert_embeddings",
   "language": "python",
   "name": "python3"
  },
  "language_info": {
   "codemirror_mode": {
    "name": "ipython",
    "version": 3
   },
   "file_extension": ".py",
   "mimetype": "text/x-python",
   "name": "python",
   "nbconvert_exporter": "python",
   "pygments_lexer": "ipython3",
   "version": "3.10.14"
  }
 },
 "nbformat": 4,
 "nbformat_minor": 5
}
